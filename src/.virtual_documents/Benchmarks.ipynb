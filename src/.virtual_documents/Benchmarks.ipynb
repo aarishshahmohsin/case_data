from real_datasets import BreastCancerDataset, WineQualityRedDataset, WineQualityWhiteDataset, SouthGermanCreditDataset, CropMappingDataset


import numpy as np



seeds = [
    85287339, # 412
    20200621154912, # 378
    20200623170005 # 433
]
np.random.seed(seeds[0])


from synthetic_datasets import ClusterDataset, TwoClusterDataset, DiffusedBenchmark, PrismDataset, TruncatedNormalPrism


from solvers import gurobi_solver, cplex_solver, separating_hyperplane
from constants import epsilon_P, epsilon_N, epsilon_R


datasets = {
    "Breast Cancer": BreastCancerDataset(),
    "Wine Quality Red": WineQualityRedDataset(),
    "Wine Quality White": WineQualityWhiteDataset(),
    "South German Credit": SouthGermanCreditDataset(),
    "Crop Mapping": CropMappingDataset(),
    "Cluster 8": ClusterDataset(d=8),
    "Two Cluster 8": TwoClusterDataset(d=8),
    "Cluster": ClusterDataset(d=11),
    "Two Cluster": TwoClusterDataset(d=11),
    "Diffused Benchmark": DiffusedBenchmark(),
    "Prism": PrismDataset(),
    "Truncated Normal Prism": TruncatedNormalPrism(),
}


times = 1
import numpy as np


results = {}


for dataset_name, dataset in datasets.items():
    P, N = dataset.generate()
    t0, t1, t, l = dataset.params()
    # print(t1)
    final_res = []
    for i in range(times):
        # print(i)
        # print(l)
        # w, c, r = separating_hyperplane(P, N, epsilon_P, epsilon_N, epsilon_R, t, l, num_trials=10000)
        # # print(c) 
        # reach = np.dot(P, w) - c >= epsilon_P
        # print(np.sum(reach))
        # # xs ≤ 1 + sT w − c − P
        res_gurobi = gurobi_solver(theta=t, theta0=t0, theta1=t1, P=P, N=N, lambda_param=l)
        # print(res_gurobi)
        res_cplex = cplex_solver(theta=t, theta0=t0, theta1=t1, P=P, N=N, lambda_param=l)
        final_res.append([res_gurobi, res_cplex])
        # print(r)
    results[dataset_name] = final_res
    


for name, res in results.items():
    # print(res)
    print(res[0][1]['Reach'])


import pandas as pd


new_ar = {"dataset": [], "gurobi_reach": [], "gurobi_nodes": [], "gurobi_time": [], "cplex_reach": [], "cplex_nodes": [], "cplex_time": [],}


for name, res in results.items():
    for subres in res:
        res_g = subres[0]
        res_c = subres[1]
        new_ar['dataset'].append(name)
        new_ar['gurobi_reach'].append(res_g['Reach'])
        new_ar['gurobi_nodes'].append(res_g['Node Count'])
        new_ar['gurobi_time'].append(res_g['Time taken'])
        new_ar['cplex_nodes'].append(res_c['Node Count'])
        new_ar['cplex_reach'].append(res_c['Reach'])
        new_ar['cplex_time'].append(res_c['Time taken'])


# new_ar


n = pd.DataFrame(new_ar)


n.to_csv("res2.csv", index=None)


# df1 = pd.read_csv("./res.csv")
df2 = pd.read_csv("./res2.csv")


combined = pd.concat([ df2])


combined.to_csv("fin_res.csv", index=None)


avg_d = {} 
avg_d['dataset'] = [] 
avg_d['avg_gurobi_reach'] = []
avg_d['avg_gurobi_nodes'] = []
avg_d['avg_gurobi_time'] = []
avg_d['avg_cplex_reach'] = []
avg_d['avg_cplex_nodes'] = []
avg_d['avg_cplex_time'] = []


for name, dataset in datasets.items():
    cnt = 0 
    avg_gurobi_reach = 0 
    avg_gurobi_nodes = 0
    avg_gurobi_time = 0
    avg_cplex_reach = 0
    avg_cplex_nodes = 0
    avg_cplex_time = 0
    for idx, row in combined[combined['dataset'] == name].iterrows():
        cnt += 1
        avg_gurobi_reach += row['gurobi_reach']
        avg_gurobi_nodes += row['gurobi_nodes']
        avg_gurobi_time += row['gurobi_time']
        avg_cplex_reach += row['cplex_reach']
        avg_cplex_nodes += row['cplex_nodes']
        avg_cplex_time += row['cplex_time']
    avg_gurobi_reach /= cnt
    avg_gurobi_nodes /= cnt
    avg_gurobi_time /= cnt
    avg_cplex_reach /= cnt
    avg_cplex_nodes /= cnt
    avg_cplex_time /= cnt
    avg_d['dataset'].append(name)
    avg_d['avg_gurobi_reach'].append(avg_gurobi_reach)
    avg_d['avg_gurobi_nodes'].append(avg_gurobi_nodes)
    avg_d['avg_gurobi_time'] .append(avg_gurobi_time)
    avg_d['avg_cplex_reach'].append(avg_cplex_reach)
    avg_d['avg_cplex_nodes'].append(avg_cplex_nodes)
    avg_d['avg_cplex_time'].append(avg_cplex_time)
    
         


avg_df = pd.DataFrame(avg_d)


avg_df.to_csv("avg_df.csv", index=None)






